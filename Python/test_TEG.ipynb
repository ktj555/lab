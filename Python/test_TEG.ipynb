{
 "cells": [
  {
   "cell_type": "code",
   "execution_count": 14,
   "metadata": {},
   "outputs": [],
   "source": [
    "from TEG import \n",
    "\n",
    "iron=TEG.material.Solid({'Density':7874,'Temperature':300,'Conductivity':202.4,'Specificheat':0.107*4.2*1000})\n",
    "water=TEG.material.Fluid({'Density':998,'Temperature':300,'Conductivity':0.5918,'Specificheat':4184,'Viscosity':0.7670,'Pressure':101.325})\n",
    "Air=TEG.material.Fluid({'Density':1.2,'Temperature':500,'Conductivity':0.025,'Specificheat':1030,'Viscosity':1.79e-5,'Pressure':101.325})\n",
    "PN=TEG.material.SemiConductor({'Seebeck':lambda x:0.123,'Conductivity':lambda x:1.25,'Resistance':lambda x:-7.9148e-6*391/161*x**2+0.00502*391/161*x+1.630327*391/161,'Seebecktype':'constant','Conductivitytype':'constant','Resistancetype':'diff'})\n",
    "heatsink1=TEG.heatsink.Plate_fin({'material':iron,'base':{'Width':0.06,'Height':0.003,'Depth':0.06},'fin':{'Width':0.06,'Height':0.025,'N_fin':9,'Side':0.0024}})\n",
    "TEM1=TEG.TEM.TEM({'PN_couple':PN,'config':{'Width':0.06,'Depth':0.06,'Height':0.0033}})"
   ]
  },
  {
   "cell_type": "code",
   "execution_count": 16,
   "metadata": {},
   "outputs": [
    {
     "ename": "TypeError",
     "evalue": "can't convert complex to float",
     "output_type": "error",
     "traceback": [
      "\u001b[1;31m---------------------------------------------------------------------------\u001b[0m",
      "\u001b[1;31mTypeError\u001b[0m                                 Traceback (most recent call last)",
      "\u001b[1;32mc:\\Users\\taejin\\Desktop\\Code\\Python\\test_TEG.ipynb Cell 2'\u001b[0m in \u001b[0;36m<cell line: 3>\u001b[1;34m()\u001b[0m\n\u001b[0;32m      <a href='vscode-notebook-cell:/c%3A/Users/taejin/Desktop/Code/Python/test_TEG.ipynb#ch0000001?line=0'>1</a>\u001b[0m Model\u001b[39m=\u001b[39mTEG\u001b[39m.\u001b[39mModule\u001b[39m.\u001b[39mModule({\u001b[39m'\u001b[39m\u001b[39mTEM\u001b[39m\u001b[39m'\u001b[39m:TEM1,\u001b[39m'\u001b[39m\u001b[39mHot_side_heatsink\u001b[39m\u001b[39m'\u001b[39m:heatsink1,\u001b[39m'\u001b[39m\u001b[39mCold_side_heatsink\u001b[39m\u001b[39m'\u001b[39m:heatsink1})\n\u001b[0;32m      <a href='vscode-notebook-cell:/c%3A/Users/taejin/Desktop/Code/Python/test_TEG.ipynb#ch0000001?line=1'>2</a>\u001b[0m Model\u001b[39m.\u001b[39minlet({\u001b[39m'\u001b[39m\u001b[39mfluid\u001b[39m\u001b[39m'\u001b[39m:Air,\u001b[39m'\u001b[39m\u001b[39mvelocity\u001b[39m\u001b[39m'\u001b[39m:\u001b[39m48\u001b[39m},{\u001b[39m'\u001b[39m\u001b[39mfluid\u001b[39m\u001b[39m'\u001b[39m:water,\u001b[39m'\u001b[39m\u001b[39mvelocity\u001b[39m\u001b[39m'\u001b[39m:\u001b[39m0.044\u001b[39m})\n\u001b[1;32m----> <a href='vscode-notebook-cell:/c%3A/Users/taejin/Desktop/Code/Python/test_TEG.ipynb#ch0000001?line=2'>3</a>\u001b[0m result\u001b[39m=\u001b[39mModel\u001b[39m.\u001b[39;49msolve()\n",
      "File \u001b[1;32mc:\\Users\\taejin\\Desktop\\Code\\Python\\TEG\\Module.py:36\u001b[0m, in \u001b[0;36mModule.solve\u001b[1;34m(self)\u001b[0m\n\u001b[0;32m     32\u001b[0m f_c\u001b[39m=\u001b[39m\u001b[39mself\u001b[39m\u001b[39m.\u001b[39mCold_side_heatsink\u001b[39m.\u001b[39mfriction()\n\u001b[0;32m     34\u001b[0m \u001b[39m# heat analysis\u001b[39;00m\n\u001b[1;32m---> 36\u001b[0m R_h\u001b[39m=\u001b[39m\u001b[39mself\u001b[39;49m\u001b[39m.\u001b[39;49mHot_side_heatsink\u001b[39m.\u001b[39;49mThermal_Resistance()\n\u001b[0;32m     37\u001b[0m R_c\u001b[39m=\u001b[39m\u001b[39mself\u001b[39m\u001b[39m.\u001b[39mCold_side_heatsink\u001b[39m.\u001b[39mThermal_Resistance()\n\u001b[0;32m     38\u001b[0m C_h\u001b[39m=\u001b[39m\u001b[39mself\u001b[39m\u001b[39m.\u001b[39mHot_side_heatsink\u001b[39m.\u001b[39mcondition[\u001b[39m'\u001b[39m\u001b[39mfluid\u001b[39m\u001b[39m'\u001b[39m]\u001b[39m.\u001b[39mSpecificheat\u001b[39m*\u001b[39m\u001b[39mself\u001b[39m\u001b[39m.\u001b[39mHot_side_heatsink\u001b[39m.\u001b[39mcondition[\u001b[39m'\u001b[39m\u001b[39mvelocity\u001b[39m\u001b[39m'\u001b[39m]\u001b[39m*\u001b[39m\u001b[39mself\u001b[39m\u001b[39m.\u001b[39mHot_side_heatsink\u001b[39m.\u001b[39mcondition[\u001b[39m'\u001b[39m\u001b[39mfluid\u001b[39m\u001b[39m'\u001b[39m]\u001b[39m.\u001b[39mDensity\n",
      "File \u001b[1;32mc:\\Users\\taejin\\Desktop\\Code\\Python\\TEG\\heatsink.py:68\u001b[0m, in \u001b[0;36mPlate_fin.Thermal_Resistance\u001b[1;34m(self)\u001b[0m\n\u001b[0;32m     66\u001b[0m A_c\u001b[39m=\u001b[39m\u001b[39mself\u001b[39m\u001b[39m.\u001b[39mfin[\u001b[39m'\u001b[39m\u001b[39mWidth\u001b[39m\u001b[39m'\u001b[39m]\u001b[39m*\u001b[39m\u001b[39mself\u001b[39m\u001b[39m.\u001b[39mfin[\u001b[39m'\u001b[39m\u001b[39mHeight\u001b[39m\u001b[39m'\u001b[39m]\n\u001b[0;32m     67\u001b[0m m\u001b[39m=\u001b[39m(h\u001b[39m*\u001b[39mP_L\u001b[39m/\u001b[39m\u001b[39mself\u001b[39m\u001b[39m.\u001b[39mmaterial\u001b[39m.\u001b[39mConductivity\u001b[39m/\u001b[39mA_c)\u001b[39m*\u001b[39m\u001b[39m*\u001b[39m\u001b[39m0.5\u001b[39m\n\u001b[1;32m---> 68\u001b[0m R_fin\u001b[39m=\u001b[39m\u001b[39m1\u001b[39m\u001b[39m/\u001b[39m((h\u001b[39m*\u001b[39mP_L\u001b[39m*\u001b[39m\u001b[39mself\u001b[39m\u001b[39m.\u001b[39mmaterial\u001b[39m.\u001b[39mConductivity\u001b[39m*\u001b[39mA_c)\u001b[39m*\u001b[39m\u001b[39m*\u001b[39m\u001b[39m0.5\u001b[39m\u001b[39m*\u001b[39mtanh(m\u001b[39m*\u001b[39;49m\u001b[39mself\u001b[39;49m\u001b[39m.\u001b[39;49mfin[\u001b[39m'\u001b[39;49m\u001b[39mHeight\u001b[39;49m\u001b[39m'\u001b[39;49m]))\n\u001b[0;32m     69\u001b[0m \u001b[39mreturn\u001b[39;00m \u001b[39m1\u001b[39m\u001b[39m/\u001b[39m(\u001b[39mself\u001b[39m\u001b[39m.\u001b[39mfin[\u001b[39m'\u001b[39m\u001b[39mN_fin\u001b[39m\u001b[39m'\u001b[39m]\u001b[39m/\u001b[39mR_fin\u001b[39m+\u001b[39mh\u001b[39m*\u001b[39m(\u001b[39mself\u001b[39m\u001b[39m.\u001b[39mfin[\u001b[39m'\u001b[39m\u001b[39mN_fin\u001b[39m\u001b[39m'\u001b[39m]\u001b[39m-\u001b[39m\u001b[39m1\u001b[39m)\u001b[39m*\u001b[39mb\u001b[39m*\u001b[39m\u001b[39mself\u001b[39m\u001b[39m.\u001b[39mbase[\u001b[39m'\u001b[39m\u001b[39mDepth\u001b[39m\u001b[39m'\u001b[39m])\n",
      "\u001b[1;31mTypeError\u001b[0m: can't convert complex to float"
     ]
    }
   ],
   "source": [
    "Model=TEG.Module.Module({'TEM':TEM1,'Hot_side_heatsink':heatsink1,'Cold_side_heatsink':heatsink1})\n",
    "Model.inlet({'fluid':Air,'velocity':48},{'fluid':water,'velocity':0.044})\n",
    "result=Model.solve()"
   ]
  },
  {
   "cell_type": "code",
   "execution_count": 15,
   "metadata": {},
   "outputs": [
    {
     "data": {
      "text/latex": [
       "$\\displaystyle 6 x + 1024 y^{5}$"
      ],
      "text/plain": [
       "6*x + 1024*y**5"
      ]
     },
     "execution_count": 15,
     "metadata": {},
     "output_type": "execute_result"
    }
   ],
   "source": [
    "from sympy import Symbol\n",
    "\n",
    "x=Symbol('x')\n",
    "y=Symbol('y')\n",
    "a=Symbol('a')\n",
    "b=Symbol('b')\n",
    "\n",
    "a=2*x\n",
    "b=4*y\n",
    "\n",
    "f=2*x**2-y**3\n",
    "h=3*a+b**5\n",
    "\n",
    "h\n"
   ]
  },
  {
   "cell_type": "code",
   "execution_count": null,
   "metadata": {},
   "outputs": [],
   "source": []
  }
 ],
 "metadata": {
  "kernelspec": {
   "display_name": "Python 3.9.12 ('base')",
   "language": "python",
   "name": "python3"
  },
  "language_info": {
   "codemirror_mode": {
    "name": "ipython",
    "version": 3
   },
   "file_extension": ".py",
   "mimetype": "text/x-python",
   "name": "python",
   "nbconvert_exporter": "python",
   "pygments_lexer": "ipython3",
   "version": "3.9.12"
  },
  "orig_nbformat": 4,
  "vscode": {
   "interpreter": {
    "hash": "0987569110f5f7df05f6ad8acc59b65acd4a1949bbbda04f5ede393329b91967"
   }
  }
 },
 "nbformat": 4,
 "nbformat_minor": 2
}
